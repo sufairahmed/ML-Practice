{
  "nbformat": 4,
  "nbformat_minor": 0,
  "metadata": {
    "colab": {
      "name": "support_vector_regression.ipynb",
      "provenance": [],
      "collapsed_sections": [],
      "authorship_tag": "ABX9TyN2c+UcEa8qKiSatihIXejp",
      "include_colab_link": true
    },
    "kernelspec": {
      "name": "python3",
      "display_name": "Python 3"
    }
  },
  "cells": [
    {
      "cell_type": "markdown",
      "metadata": {
        "id": "view-in-github",
        "colab_type": "text"
      },
      "source": [
        "<a href=\"https://colab.research.google.com/github/sufairahmed/ML-Step-by-Step/blob/master/support_vector_regression.ipynb\" target=\"_parent\"><img src=\"https://colab.research.google.com/assets/colab-badge.svg\" alt=\"Open In Colab\"/></a>"
      ]
    },
    {
      "cell_type": "markdown",
      "metadata": {
        "id": "9h4uJJV2vUDK",
        "colab_type": "text"
      },
      "source": [
        "# Support vector regression"
      ]
    },
    {
      "cell_type": "code",
      "metadata": {
        "id": "vX63K0H7tF0e",
        "colab_type": "code",
        "colab": {}
      },
      "source": [
        "import numpy as np\n",
        "import matplotlib.pyplot as plt\n",
        "import pandas as pd\n"
      ],
      "execution_count": 0,
      "outputs": []
    },
    {
      "cell_type": "code",
      "metadata": {
        "id": "0bPRjKUTuBvK",
        "colab_type": "code",
        "colab": {}
      },
      "source": [
        "dataset = pd.read_csv('Position_Salaries.csv')\n",
        "X = dataset.iloc[:, 1:-1].values\n",
        "y = dataset.iloc[:, -1].values"
      ],
      "execution_count": 0,
      "outputs": []
    },
    {
      "cell_type": "code",
      "metadata": {
        "id": "48hPTA-DuWaI",
        "colab_type": "code",
        "colab": {}
      },
      "source": [
        "# print(X)\n",
        "# print(y)"
      ],
      "execution_count": 0,
      "outputs": []
    },
    {
      "cell_type": "markdown",
      "metadata": {
        "id": "PyQhT9livgm4",
        "colab_type": "text"
      },
      "source": [
        "feature Scalling"
      ]
    },
    {
      "cell_type": "code",
      "metadata": {
        "id": "63DFAvXDuepQ",
        "colab_type": "code",
        "colab": {}
      },
      "source": [
        "from sklearn.preprocessing import StandardScaler\n",
        "standard_X = StandardScaler()\n",
        "standard_y = StandardScaler()\n",
        "X = standard_X.fit_transform(X)\n",
        "y = standard_y.fit_transform(y.reshape(-1,1))"
      ],
      "execution_count": 0,
      "outputs": []
    },
    {
      "cell_type": "code",
      "metadata": {
        "id": "i5LKFhl6xOij",
        "colab_type": "code",
        "colab": {
          "base_uri": "https://localhost:8080/",
          "height": 185
        },
        "outputId": "679b16c1-8acc-43c9-b4e5-e33a2234eac4"
      },
      "source": [
        "print(y)"
      ],
      "execution_count": 75,
      "outputs": [
        {
          "output_type": "stream",
          "text": [
            "[[-0.72004253]\n",
            " [-0.70243757]\n",
            " [-0.66722767]\n",
            " [-0.59680786]\n",
            " [-0.49117815]\n",
            " [-0.35033854]\n",
            " [-0.17428902]\n",
            " [ 0.17781001]\n",
            " [ 0.88200808]\n",
            " [ 2.64250325]]\n"
          ],
          "name": "stdout"
        }
      ]
    },
    {
      "cell_type": "markdown",
      "metadata": {
        "id": "sOhGBLfKxt_J",
        "colab_type": "text"
      },
      "source": [
        "Training support vector machine"
      ]
    },
    {
      "cell_type": "code",
      "metadata": {
        "id": "sq9Q6pa1xw85",
        "colab_type": "code",
        "colab": {
          "base_uri": "https://localhost:8080/",
          "height": 104
        },
        "outputId": "be1b4a46-eef9-4e53-8816-adcf0478891d"
      },
      "source": [
        "from sklearn.svm import SVR\n",
        "# regressor = SVR(kernel = 'rbf')\n",
        "regressor = SVR(kernel='rbf', C=100, gamma=0.1, epsilon=.1)\n",
        "regressor.fit(X,y)"
      ],
      "execution_count": 76,
      "outputs": [
        {
          "output_type": "stream",
          "text": [
            "/usr/local/lib/python3.6/dist-packages/sklearn/utils/validation.py:760: DataConversionWarning: A column-vector y was passed when a 1d array was expected. Please change the shape of y to (n_samples, ), for example using ravel().\n",
            "  y = column_or_1d(y, warn=True)\n"
          ],
          "name": "stderr"
        },
        {
          "output_type": "execute_result",
          "data": {
            "text/plain": [
              "SVR(C=100, cache_size=200, coef0=0.0, degree=3, epsilon=0.1, gamma=0.1,\n",
              "    kernel='rbf', max_iter=-1, shrinking=True, tol=0.001, verbose=False)"
            ]
          },
          "metadata": {
            "tags": []
          },
          "execution_count": 76
        }
      ]
    },
    {
      "cell_type": "markdown",
      "metadata": {
        "id": "AXjwavuhy9X6",
        "colab_type": "text"
      },
      "source": [
        "Predict the new result and revers from feature scalling data"
      ]
    },
    {
      "cell_type": "code",
      "metadata": {
        "id": "JVAVuRBky_2S",
        "colab_type": "code",
        "colab": {}
      },
      "source": [
        "y_pred = regressor.predict([[6.5]])\n",
        "y_pred = standard_y.inverse_transform(y_pred)"
      ],
      "execution_count": 0,
      "outputs": []
    },
    {
      "cell_type": "code",
      "metadata": {
        "id": "DiqBKve_zfWS",
        "colab_type": "code",
        "colab": {
          "base_uri": "https://localhost:8080/",
          "height": 34
        },
        "outputId": "3b1eb8a5-213e-4132-c93d-f67a758c3cd9"
      },
      "source": [
        "print(y_pred)"
      ],
      "execution_count": 78,
      "outputs": [
        {
          "output_type": "stream",
          "text": [
            "[1380806.77311568]\n"
          ],
          "name": "stdout"
        }
      ]
    },
    {
      "cell_type": "markdown",
      "metadata": {
        "id": "zc1ZUPsc1HUS",
        "colab_type": "text"
      },
      "source": [
        "#Visualising the SVR results\n"
      ]
    },
    {
      "cell_type": "code",
      "metadata": {
        "id": "iwfrZPWjzp9w",
        "colab_type": "code",
        "colab": {
          "base_uri": "https://localhost:8080/",
          "height": 295
        },
        "outputId": "46fd8809-4297-4cf9-aae5-2f81162e1d13"
      },
      "source": [
        "plt.scatter(X,y, color = 'red')\n",
        "plt.plot(X, regressor.predict(X), color= 'blue' )\n",
        "plt.title('expected Salary')\n",
        "plt.xlabel('Position level')\n",
        "plt.ylabel('Salary')\n",
        "plt.show()"
      ],
      "execution_count": 79,
      "outputs": [
        {
          "output_type": "display_data",
          "data": {
            "image/png": "[encoded data removed]",
            "text/plain": [
              "<Figure size 432x288 with 1 Axes>"
            ]
          },
          "metadata": {
            "tags": [],
            "needs_background": "light"
          }
        }
      ]
    }
  ]
}