{
  "nbformat": 4,
  "nbformat_minor": 0,
  "metadata": {
    "colab": {
      "name": "polynomial_regression.ipynb",
      "provenance": [],
      "authorship_tag": "ABX9TyPLgWP+2vLi5AFeX81HYVik",
      "include_colab_link": true
    },
    "kernelspec": {
      "name": "python3",
      "display_name": "Python 3"
    }
  },
  "cells": [
    {
      "cell_type": "markdown",
      "metadata": {
        "id": "view-in-github",
        "colab_type": "text"
      },
      "source": [
        "<a href=\"https://colab.research.google.com/github/sufairahmed/ML-Step-by-Step/blob/master/polynomial_regression.ipynb\" target=\"_parent\"><img src=\"https://colab.research.google.com/assets/colab-badge.svg\" alt=\"Open In Colab\"/></a>"
      ]
    },
    {
      "cell_type": "markdown",
      "metadata": {
        "id": "0adSrKsQlUgy",
        "colab_type": "text"
      },
      "source": [
        "# Polynomial Regression"
      ]
    },
    {
      "cell_type": "code",
      "metadata": {
        "id": "q3ehTs3jk8Im",
        "colab_type": "code",
        "colab": {}
      },
      "source": [
        "import numpy as np\n",
        "import matplotlib.pyplot as plt\n",
        "import pandas as pd\n"
      ],
      "execution_count": 0,
      "outputs": []
    },
    {
      "cell_type": "markdown",
      "metadata": {
        "id": "2VRhdcrDluZ0",
        "colab_type": "text"
      },
      "source": [
        "## import dataset"
      ]
    },
    {
      "cell_type": "code",
      "metadata": {
        "id": "yynwacOwls0E",
        "colab_type": "code",
        "colab": {}
      },
      "source": [
        "dataset = pd.read_csv('Position_Salaries.csv')\n",
        "X = dataset.iloc[:, 1:-1].values\n",
        "y = dataset.iloc[:, -1].values"
      ],
      "execution_count": 0,
      "outputs": []
    },
    {
      "cell_type": "code",
      "metadata": {
        "id": "SMdv7wWRmQCk",
        "colab_type": "code",
        "colab": {
          "base_uri": "https://localhost:8080/",
          "height": 185
        },
        "outputId": "1697421c-86fe-444a-b801-f1f89db8f049"
      },
      "source": [
        "print(X)"
      ],
      "execution_count": 80,
      "outputs": [
        {
          "output_type": "stream",
          "text": [
            "[[ 1]\n",
            " [ 2]\n",
            " [ 3]\n",
            " [ 4]\n",
            " [ 5]\n",
            " [ 6]\n",
            " [ 7]\n",
            " [ 8]\n",
            " [ 9]\n",
            " [10]]\n"
          ],
          "name": "stdout"
        }
      ]
    },
    {
      "cell_type": "markdown",
      "metadata": {
        "id": "NSchPC05nnCo",
        "colab_type": "text"
      },
      "source": [
        "Training Linea Regression model"
      ]
    },
    {
      "cell_type": "code",
      "metadata": {
        "id": "Oe0VIXxsn7Kv",
        "colab_type": "code",
        "colab": {
          "base_uri": "https://localhost:8080/",
          "height": 34
        },
        "outputId": "5c5ccf6a-0e5c-4812-e24e-c12e2200d6af"
      },
      "source": [
        "from sklearn.linear_model import LinearRegression\n",
        "lin_reg = LinearRegression()\n",
        "lin_reg.fit(X,y)"
      ],
      "execution_count": 81,
      "outputs": [
        {
          "output_type": "execute_result",
          "data": {
            "text/plain": [
              "LinearRegression(copy_X=True, fit_intercept=True, n_jobs=None, normalize=False)"
            ]
          },
          "metadata": {
            "tags": []
          },
          "execution_count": 81
        }
      ]
    },
    {
      "cell_type": "markdown",
      "metadata": {
        "id": "3r2Zzo75oRXV",
        "colab_type": "text"
      },
      "source": [
        "Training Polynomial regression"
      ]
    },
    {
      "cell_type": "code",
      "metadata": {
        "id": "b5rAtjVgoULm",
        "colab_type": "code",
        "colab": {
          "base_uri": "https://localhost:8080/",
          "height": 34
        },
        "outputId": "d1d8650c-53c1-4b8c-bd90-9d3d1bc7ef9a"
      },
      "source": [
        "from sklearn.preprocessing import PolynomialFeatures\n",
        "poly_reg = PolynomialFeatures(degree = 4)\n",
        "X_poly = poly_reg.fit_transform(X)\n",
        "poly_reg.fit(X_poly,y)\n",
        "lin_reg2 = LinearRegression()\n",
        "lin_reg2.fit(X_poly,y)"
      ],
      "execution_count": 82,
      "outputs": [
        {
          "output_type": "execute_result",
          "data": {
            "text/plain": [
              "LinearRegression(copy_X=True, fit_intercept=True, n_jobs=None, normalize=False)"
            ]
          },
          "metadata": {
            "tags": []
          },
          "execution_count": 82
        }
      ]
    },
    {
      "cell_type": "markdown",
      "metadata": {
        "id": "x-XCDsWKpTL-",
        "colab_type": "text"
      },
      "source": [
        "# visualising the linear Regression result"
      ]
    },
    {
      "cell_type": "code",
      "metadata": {
        "id": "2b_vPXZypY0N",
        "colab_type": "code",
        "colab": {
          "base_uri": "https://localhost:8080/",
          "height": 295
        },
        "outputId": "0a00d395-1692-483c-a05a-67295e539418"
      },
      "source": [
        "plt.scatter(X,y, color='red')\n",
        "plt.plot(X, lin_reg.predict(X), color ='blue')\n",
        "plt.title(\"Truth or Bluff(demanded salary) \")\n",
        "plt.xlabel(\"Position\")\n",
        "plt.ylabel('Salary')\n",
        "plt.show()"
      ],
      "execution_count": 83,
      "outputs": [
        {
          "output_type": "display_data",
          "data": {
            "image/png": "[encoded data removed]",
            "text/plain": [
              "<Figure size 432x288 with 1 Axes>"
            ]
          },
          "metadata": {
            "tags": [],
            "needs_background": "light"
          }
        }
      ]
    },
    {
      "cell_type": "markdown",
      "metadata": {
        "id": "t6aVuL87qe7m",
        "colab_type": "text"
      },
      "source": [
        "Visualising polynomial regression"
      ]
    },
    {
      "cell_type": "code",
      "metadata": {
        "id": "28np77eJqjjc",
        "colab_type": "code",
        "colab": {
          "base_uri": "https://localhost:8080/",
          "height": 295
        },
        "outputId": "173a8b15-46c1-49b7-fd32-134ebf69a609"
      },
      "source": [
        "plt.scatter(X,y, color='red')\n",
        "plt.plot(X, lin_reg2.predict(poly_reg.fit_transform(X)), color='blue')\n",
        "plt.title('Truth or Bluff (Mentioned Salary)')\n",
        "plt.xlabel('Position lable')\n",
        "plt.ylabel('Salary')\n",
        "plt.show()"
      ],
      "execution_count": 84,
      "outputs": [
        {
          "output_type": "display_data",
          "data": {
            "image/png": "[encoded data removed]",
            "text/plain": [
              "<Figure size 432x288 with 1 Axes>"
            ]
          },
          "metadata": {
            "tags": [],
            "needs_background": "light"
          }
        }
      ]
    }
  ]
}